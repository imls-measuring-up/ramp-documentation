{
 "cells": [
  {
   "cell_type": "markdown",
   "metadata": {},
   "source": [
    "# A RAMP Primer: Extracting URL Click Counts from a Subset of RAMP Data\n",
    "---------------------------------------------------------------------------------------\n",
    "\n",
    "## Requirements\n",
    "\n",
    "The data needed to run this notebook include the monthly CSV subsets of RAMP data for 35 IR from January and Feburary, 2019. The data are available from Dryad at ...\n",
    "\n",
    "**NOTE**: File paths in the code blocks below assume that the data and the *RAMP-IR-info.csv* needed to run the code are located in the same directory as this notebook. Please update paths or file locations as needed.\n",
    "\n",
    "Please note the published data include additional data from March through May, 2019. The data files can be large, so this notebook only loads data from two months in order to conserve resources while still demonstrating the process of combining monthly CSV files of RAMP data.\n",
    "\n",
    "This notebook was written using Python version 3, and Python Pandas is required:\n",
    "\n",
    "1. Pandas [https://pandas.pydata.org/](https://pandas.pydata.org/)\n",
    "\n",
    "The first code block below includes the pip commands to install Pandas. Uncomment and run as needed. Please note the RAMP team cannot provide support for configuring a Python or Jupyter environment."
   ]
  },
  {
   "cell_type": "code",
   "execution_count": 1,
   "metadata": {
    "collapsed": true
   },
   "outputs": [],
   "source": [
    "# Uncomment the line below as needed to install dependencies.\n",
    "\n",
    "# pip install --upgrade pandas"
   ]
  },
  {
   "cell_type": "code",
   "execution_count": 2,
   "metadata": {
    "collapsed": true
   },
   "outputs": [],
   "source": [
    "import pandas as pd\n",
    "pd.set_option('display.max_colwidth', -1)"
   ]
  },
  {
   "cell_type": "markdown",
   "metadata": {},
   "source": [
    "## Load the CSV File with Index Names\n",
    "\n",
    "Data for each IR in RAMP are stored within an index specific to that IR. Since the published data include CSV dumps of the all RAMP for 35 participating IR, index names are needed in order to filter out data for a particular IR or subset of repositories. This information is provided in the file, *RAMP-IR-info.csv*, which is included in the GitHub repository for this notebook.\n",
    "\n",
    "Complete documentation for RAMP data is available from the dataset record in Dryad."
   ]
  },
  {
   "cell_type": "code",
   "execution_count": 3,
   "metadata": {},
   "outputs": [
    {
     "name": "stdout",
     "output_type": "stream",
     "text": [
      "<class 'pandas.core.frame.DataFrame'>\n",
      "RangeIndex: 35 entries, 0 to 34\n",
      "Data columns (total 3 columns):\n",
      "ir_index_root           35 non-null object\n",
      "ir_page_click_index     35 non-null object\n",
      "ir_access_info_index    35 non-null object\n",
      "dtypes: object(3)\n",
      "memory usage: 920.0+ bytes\n",
      "None\n"
     ]
    }
   ],
   "source": [
    "# Read the CSV file.\n",
    "\n",
    "repos = pd.read_csv('RAMP-IR-info.csv', encoding='latin-1')\n",
    "print(repos.info())"
   ]
  },
  {
   "cell_type": "code",
   "execution_count": 4,
   "metadata": {},
   "outputs": [
    {
     "data": {
      "text/html": [
       "<div>\n",
       "<style>\n",
       "    .dataframe thead tr:only-child th {\n",
       "        text-align: right;\n",
       "    }\n",
       "\n",
       "    .dataframe thead th {\n",
       "        text-align: left;\n",
       "    }\n",
       "\n",
       "    .dataframe tbody tr th {\n",
       "        vertical-align: top;\n",
       "    }\n",
       "</style>\n",
       "<table border=\"1\" class=\"dataframe\">\n",
       "  <thead>\n",
       "    <tr style=\"text-align: right;\">\n",
       "      <th></th>\n",
       "      <th>ir_index_root</th>\n",
       "      <th>ir_page_click_index</th>\n",
       "      <th>ir_access_info_index</th>\n",
       "    </tr>\n",
       "  </thead>\n",
       "  <tbody>\n",
       "    <tr>\n",
       "      <th>0</th>\n",
       "      <td>swarthmore_inst-schol</td>\n",
       "      <td>swarthmore_inst-schol_page_clicks</td>\n",
       "      <td>swarthmore_inst-schol_access_info</td>\n",
       "    </tr>\n",
       "    <tr>\n",
       "      <th>1</th>\n",
       "      <td>caltech_authors</td>\n",
       "      <td>caltech_authors_page_clicks</td>\n",
       "      <td>caltech_authors_access_info</td>\n",
       "    </tr>\n",
       "    <tr>\n",
       "      <th>2</th>\n",
       "      <td>caltech_thesis</td>\n",
       "      <td>caltech_thesis_page_clicks</td>\n",
       "      <td>caltech_thesis_access_info</td>\n",
       "    </tr>\n",
       "    <tr>\n",
       "      <th>3</th>\n",
       "      <td>colorado</td>\n",
       "      <td>colorado_page_clicks</td>\n",
       "      <td>colorado_access_info</td>\n",
       "    </tr>\n",
       "    <tr>\n",
       "      <th>4</th>\n",
       "      <td>iupui_ir</td>\n",
       "      <td>iupui_ir_page_clicks</td>\n",
       "      <td>iupui_ir_access_info</td>\n",
       "    </tr>\n",
       "  </tbody>\n",
       "</table>\n",
       "</div>"
      ],
      "text/plain": [
       "           ir_index_root                ir_page_click_index  \\\n",
       "0  swarthmore_inst-schol  swarthmore_inst-schol_page_clicks   \n",
       "1  caltech_authors        caltech_authors_page_clicks         \n",
       "2  caltech_thesis         caltech_thesis_page_clicks          \n",
       "3  colorado               colorado_page_clicks                \n",
       "4  iupui_ir               iupui_ir_page_clicks                \n",
       "\n",
       "                ir_access_info_index  \n",
       "0  swarthmore_inst-schol_access_info  \n",
       "1  caltech_authors_access_info        \n",
       "2  caltech_thesis_access_info         \n",
       "3  colorado_access_info               \n",
       "4  iupui_ir_access_info               "
      ]
     },
     "execution_count": 4,
     "metadata": {},
     "output_type": "execute_result"
    }
   ],
   "source": [
    "# Print information about RAMP participating IR.\n",
    "# The 'ir_index_root' column is the information we need to filter for specific IR data.\n",
    "\n",
    "repos.head()"
   ]
  },
  {
   "cell_type": "markdown",
   "metadata": {},
   "source": [
    "## Read RAMP CSV Data\n",
    "\n",
    "As stated above, the paths used in this notebook assume that the code and data are located within a single directory, and that the filenames are unchanged. Please update paths and filenames as needed.\n",
    "\n",
    "The code in this notebook will:\n",
    "\n",
    "1. Combine data from January and February, 2019.\n",
    "2. Filter the combined data to get the count of citable content downloads (CCD) for the University of New Mexico Digital Repository. For a definition of CCD and an overview of the process used to determine CCD counts, please see available RAMP documentation at <https://osf.io/xbnmp/wiki/home/> or in the published dataset documentation.\n",
    "3. Aggregate click counts on all pages - HTML pages as well as content files - by device and country of access.\n",
    "\n",
    "Please note that citable content URLs for all participating IR, as defined in the documentation, are analyzed prior to indexing in RAMP. Differences in content URLs across IR platforms are managed as part of that process - within the included CSV data, there is no need to differentiate between DSpace, Digital Commons, ePrints, or other platforms. The steps outlined below can be used to analyze data for any RAMP IR."
   ]
  },
  {
   "cell_type": "code",
   "execution_count": 5,
   "metadata": {},
   "outputs": [
    {
     "name": "stdout",
     "output_type": "stream",
     "text": [
      "<class 'pandas.core.frame.DataFrame'>\n",
      "Int64Index: 12812402 entries, 0 to 6156018\n",
      "Data columns (total 8 columns):\n",
      "position          float64\n",
      "citableContent    object\n",
      "clickThrough      float64\n",
      "url               object\n",
      "impressions       float64\n",
      "date              object\n",
      "clicks            float64\n",
      "index             object\n",
      "dtypes: float64(4), object(4)\n",
      "memory usage: 879.8+ MB\n",
      "None\n"
     ]
    }
   ],
   "source": [
    "# Read the CSVs - this will be slow when appending multiple large CSVs. \n",
    "# (We welcome contributions to improve this code! Please contact us to be added as a contributor.)\n",
    "\n",
    "# In this example, we refer to the CSV files indvidually. A recommended\n",
    "# alternative for loading several files is to use Python's 'os.walk' or 'glob'\n",
    "# methods to read an arbitrary number of files.\n",
    "\n",
    "# THIS BLOCK MAY TAKE A FEW MINUTES TO EXECUTE\n",
    "\n",
    "# Create pointers to page level data.\n",
    "janPageData = '2019-01_RAMP_subset_page-clicks.csv'\n",
    "febPageData = '2019-02_RAMP_subset_page-clicks.csv'\n",
    "\n",
    "# Read January page level data\n",
    "rampPageData = pd.read_csv(janPageData)\n",
    "\n",
    "# Append February page level data\n",
    "rampPageData = rampPageData.append(pd.read_csv(febPageData))\n",
    "\n",
    "# Get info - length, columns, etc.\n",
    "print(rampPageData.info())"
   ]
  },
  {
   "cell_type": "code",
   "execution_count": 6,
   "metadata": {},
   "outputs": [
    {
     "data": {
      "text/html": [
       "<div>\n",
       "<style>\n",
       "    .dataframe thead tr:only-child th {\n",
       "        text-align: right;\n",
       "    }\n",
       "\n",
       "    .dataframe thead th {\n",
       "        text-align: left;\n",
       "    }\n",
       "\n",
       "    .dataframe tbody tr th {\n",
       "        vertical-align: top;\n",
       "    }\n",
       "</style>\n",
       "<table border=\"1\" class=\"dataframe\">\n",
       "  <thead>\n",
       "    <tr style=\"text-align: right;\">\n",
       "      <th></th>\n",
       "      <th>position</th>\n",
       "      <th>citableContent</th>\n",
       "      <th>clickThrough</th>\n",
       "      <th>url</th>\n",
       "      <th>impressions</th>\n",
       "      <th>date</th>\n",
       "      <th>clicks</th>\n",
       "      <th>index</th>\n",
       "    </tr>\n",
       "  </thead>\n",
       "  <tbody>\n",
       "    <tr>\n",
       "      <th>0</th>\n",
       "      <td>19.0</td>\n",
       "      <td>Yes</td>\n",
       "      <td>0.0</td>\n",
       "      <td>https://scholarship.tricolib.brynmawr.edu/bitstream/handle/10066/10543/Nibi_44_528.pdf?sequence=1</td>\n",
       "      <td>2.0</td>\n",
       "      <td>2019-01-02</td>\n",
       "      <td>0.0</td>\n",
       "      <td>swarthmore_inst-schol_page_clicks</td>\n",
       "    </tr>\n",
       "    <tr>\n",
       "      <th>1</th>\n",
       "      <td>380.0</td>\n",
       "      <td>Yes</td>\n",
       "      <td>0.0</td>\n",
       "      <td>https://scholarship.tricolib.brynmawr.edu/bitstream/handle/10066/10553/Karras_44_530.pdf?sequence=1</td>\n",
       "      <td>1.0</td>\n",
       "      <td>2019-01-02</td>\n",
       "      <td>0.0</td>\n",
       "      <td>swarthmore_inst-schol_page_clicks</td>\n",
       "    </tr>\n",
       "    <tr>\n",
       "      <th>2</th>\n",
       "      <td>251.0</td>\n",
       "      <td>Yes</td>\n",
       "      <td>0.0</td>\n",
       "      <td>https://scholarship.tricolib.brynmawr.edu/bitstream/handle/10066/10592/Callanicos_44_533.pdf?sequence=1&amp;isAllowed=y</td>\n",
       "      <td>1.0</td>\n",
       "      <td>2019-01-02</td>\n",
       "      <td>0.0</td>\n",
       "      <td>swarthmore_inst-schol_page_clicks</td>\n",
       "    </tr>\n",
       "    <tr>\n",
       "      <th>3</th>\n",
       "      <td>102.0</td>\n",
       "      <td>Yes</td>\n",
       "      <td>0.0</td>\n",
       "      <td>https://scholarship.tricolib.brynmawr.edu/bitstream/handle/10066/10598/Lewnes_44_533_B.pdf?sequence=1</td>\n",
       "      <td>1.0</td>\n",
       "      <td>2019-01-02</td>\n",
       "      <td>0.0</td>\n",
       "      <td>swarthmore_inst-schol_page_clicks</td>\n",
       "    </tr>\n",
       "    <tr>\n",
       "      <th>4</th>\n",
       "      <td>60.0</td>\n",
       "      <td>Yes</td>\n",
       "      <td>0.0</td>\n",
       "      <td>https://scholarship.tricolib.brynmawr.edu/bitstream/handle/10066/10611/Scofield_44_535.pdf?sequence=1</td>\n",
       "      <td>2.0</td>\n",
       "      <td>2019-01-02</td>\n",
       "      <td>0.0</td>\n",
       "      <td>swarthmore_inst-schol_page_clicks</td>\n",
       "    </tr>\n",
       "  </tbody>\n",
       "</table>\n",
       "</div>"
      ],
      "text/plain": [
       "   position citableContent  clickThrough  \\\n",
       "0  19.0      Yes            0.0            \n",
       "1  380.0     Yes            0.0            \n",
       "2  251.0     Yes            0.0            \n",
       "3  102.0     Yes            0.0            \n",
       "4  60.0      Yes            0.0            \n",
       "\n",
       "                                                                                                                   url  \\\n",
       "0  https://scholarship.tricolib.brynmawr.edu/bitstream/handle/10066/10543/Nibi_44_528.pdf?sequence=1                     \n",
       "1  https://scholarship.tricolib.brynmawr.edu/bitstream/handle/10066/10553/Karras_44_530.pdf?sequence=1                   \n",
       "2  https://scholarship.tricolib.brynmawr.edu/bitstream/handle/10066/10592/Callanicos_44_533.pdf?sequence=1&isAllowed=y   \n",
       "3  https://scholarship.tricolib.brynmawr.edu/bitstream/handle/10066/10598/Lewnes_44_533_B.pdf?sequence=1                 \n",
       "4  https://scholarship.tricolib.brynmawr.edu/bitstream/handle/10066/10611/Scofield_44_535.pdf?sequence=1                 \n",
       "\n",
       "   impressions        date  clicks                              index  \n",
       "0  2.0          2019-01-02  0.0     swarthmore_inst-schol_page_clicks  \n",
       "1  1.0          2019-01-02  0.0     swarthmore_inst-schol_page_clicks  \n",
       "2  1.0          2019-01-02  0.0     swarthmore_inst-schol_page_clicks  \n",
       "3  1.0          2019-01-02  0.0     swarthmore_inst-schol_page_clicks  \n",
       "4  2.0          2019-01-02  0.0     swarthmore_inst-schol_page_clicks  "
      ]
     },
     "execution_count": 6,
     "metadata": {},
     "output_type": "execute_result"
    }
   ],
   "source": [
    "# Inspect the first 5 rows\n",
    "\n",
    "rampPageData.head()"
   ]
  },
  {
   "cell_type": "code",
   "execution_count": 7,
   "metadata": {},
   "outputs": [
    {
     "name": "stdout",
     "output_type": "stream",
     "text": [
      "<class 'pandas.core.frame.DataFrame'>\n",
      "Int64Index: 467563 entries, 4519000 to 4360021\n",
      "Data columns (total 8 columns):\n",
      "position          467563 non-null float64\n",
      "citableContent    467563 non-null object\n",
      "clickThrough      467563 non-null float64\n",
      "url               467563 non-null object\n",
      "impressions       467563 non-null float64\n",
      "date              467563 non-null object\n",
      "clicks            467563 non-null float64\n",
      "index             467563 non-null object\n",
      "dtypes: float64(4), object(4)\n",
      "memory usage: 32.1+ MB\n",
      "None\n"
     ]
    }
   ],
   "source": [
    "# Filter for University of New Mexico Digital Repository data.\n",
    "# From the RAMP index info printed above, the necessary index id is 'new_mexico_dc'.\n",
    "# Note that the IR info file also includes page click and access info index names for each IR. As needed this info can be\n",
    "# extracted/filtered dynamically. The process used here was chosen as requiring the least amount of code.\n",
    "\n",
    "index = 'new_mexico_dc'\n",
    "\n",
    "indexPageData = index + '_page_clicks'\n",
    "\n",
    "irPageData = rampPageData[rampPageData['index'] == indexPageData].copy()\n",
    "\n",
    "# Get info - length, columns, etc.\n",
    "print(irPageData.info())"
   ]
  },
  {
   "cell_type": "code",
   "execution_count": 8,
   "metadata": {},
   "outputs": [
    {
     "data": {
      "text/html": [
       "<div>\n",
       "<style>\n",
       "    .dataframe thead tr:only-child th {\n",
       "        text-align: right;\n",
       "    }\n",
       "\n",
       "    .dataframe thead th {\n",
       "        text-align: left;\n",
       "    }\n",
       "\n",
       "    .dataframe tbody tr th {\n",
       "        vertical-align: top;\n",
       "    }\n",
       "</style>\n",
       "<table border=\"1\" class=\"dataframe\">\n",
       "  <thead>\n",
       "    <tr style=\"text-align: right;\">\n",
       "      <th></th>\n",
       "      <th>position</th>\n",
       "      <th>citableContent</th>\n",
       "      <th>clickThrough</th>\n",
       "      <th>url</th>\n",
       "      <th>impressions</th>\n",
       "      <th>date</th>\n",
       "      <th>clicks</th>\n",
       "      <th>index</th>\n",
       "    </tr>\n",
       "  </thead>\n",
       "  <tbody>\n",
       "    <tr>\n",
       "      <th>4519000</th>\n",
       "      <td>255.5000</td>\n",
       "      <td>Yes</td>\n",
       "      <td>0.0</td>\n",
       "      <td>http://digitalrepository.unm.edu/cgi/viewcontent.cgi?article=1489&amp;context=nma</td>\n",
       "      <td>2.0</td>\n",
       "      <td>2019-01-01</td>\n",
       "      <td>0.0</td>\n",
       "      <td>new_mexico_dc_page_clicks</td>\n",
       "    </tr>\n",
       "    <tr>\n",
       "      <th>4519001</th>\n",
       "      <td>21.0000</td>\n",
       "      <td>Yes</td>\n",
       "      <td>0.0</td>\n",
       "      <td>http://digitalrepository.unm.edu/cgi/viewcontent.cgi?article=1498&amp;context=abya_yala</td>\n",
       "      <td>1.0</td>\n",
       "      <td>2019-01-01</td>\n",
       "      <td>0.0</td>\n",
       "      <td>new_mexico_dc_page_clicks</td>\n",
       "    </tr>\n",
       "    <tr>\n",
       "      <th>4519002</th>\n",
       "      <td>299.1875</td>\n",
       "      <td>Yes</td>\n",
       "      <td>0.0</td>\n",
       "      <td>http://digitalrepository.unm.edu/cgi/viewcontent.cgi?article=1500&amp;context=abya_yala</td>\n",
       "      <td>16.0</td>\n",
       "      <td>2019-01-01</td>\n",
       "      <td>0.0</td>\n",
       "      <td>new_mexico_dc_page_clicks</td>\n",
       "    </tr>\n",
       "    <tr>\n",
       "      <th>4519003</th>\n",
       "      <td>87.0000</td>\n",
       "      <td>Yes</td>\n",
       "      <td>0.0</td>\n",
       "      <td>http://digitalrepository.unm.edu/cgi/viewcontent.cgi?article=1501&amp;context=nma</td>\n",
       "      <td>2.0</td>\n",
       "      <td>2019-01-01</td>\n",
       "      <td>0.0</td>\n",
       "      <td>new_mexico_dc_page_clicks</td>\n",
       "    </tr>\n",
       "    <tr>\n",
       "      <th>4519004</th>\n",
       "      <td>150.0000</td>\n",
       "      <td>Yes</td>\n",
       "      <td>0.0</td>\n",
       "      <td>http://digitalrepository.unm.edu/cgi/viewcontent.cgi?article=1509&amp;context=nma</td>\n",
       "      <td>7.0</td>\n",
       "      <td>2019-01-01</td>\n",
       "      <td>0.0</td>\n",
       "      <td>new_mexico_dc_page_clicks</td>\n",
       "    </tr>\n",
       "  </tbody>\n",
       "</table>\n",
       "</div>"
      ],
      "text/plain": [
       "         position citableContent  clickThrough  \\\n",
       "4519000  255.5000  Yes            0.0            \n",
       "4519001  21.0000   Yes            0.0            \n",
       "4519002  299.1875  Yes            0.0            \n",
       "4519003  87.0000   Yes            0.0            \n",
       "4519004  150.0000  Yes            0.0            \n",
       "\n",
       "                                                                                         url  \\\n",
       "4519000  http://digitalrepository.unm.edu/cgi/viewcontent.cgi?article=1489&context=nma         \n",
       "4519001  http://digitalrepository.unm.edu/cgi/viewcontent.cgi?article=1498&context=abya_yala   \n",
       "4519002  http://digitalrepository.unm.edu/cgi/viewcontent.cgi?article=1500&context=abya_yala   \n",
       "4519003  http://digitalrepository.unm.edu/cgi/viewcontent.cgi?article=1501&context=nma         \n",
       "4519004  http://digitalrepository.unm.edu/cgi/viewcontent.cgi?article=1509&context=nma         \n",
       "\n",
       "         impressions        date  clicks                      index  \n",
       "4519000  2.0          2019-01-01  0.0     new_mexico_dc_page_clicks  \n",
       "4519001  1.0          2019-01-01  0.0     new_mexico_dc_page_clicks  \n",
       "4519002  16.0         2019-01-01  0.0     new_mexico_dc_page_clicks  \n",
       "4519003  2.0          2019-01-01  0.0     new_mexico_dc_page_clicks  \n",
       "4519004  7.0          2019-01-01  0.0     new_mexico_dc_page_clicks  "
      ]
     },
     "execution_count": 8,
     "metadata": {},
     "output_type": "execute_result"
    }
   ],
   "source": [
    "# As above, inspect the first 5 rows.\n",
    "\n",
    "irPageData.head()"
   ]
  },
  {
   "cell_type": "markdown",
   "metadata": {},
   "source": [
    "### Summary Data: Row Counts and Citable Content Downloads\n",
    "\n",
    "The following series of code blocks demonstrate the process described above for calculating or reproducing the metrics reported on the RAMP website. Each row in the dataframe represents data for a single page or URL as downloaded from Google Search Console on any given day. Metrics include:\n",
    "\n",
    "1. A count of all rows in the dataset. This represents the amount of raw data downloaded from GSC.\n",
    "2. A count of rows within which the URLs point to 'citable content' as defined in RAMP documentation.\n",
    "3. A count of citable content downloads (CCD), as defined in RAMP documentation."
   ]
  },
  {
   "cell_type": "code",
   "execution_count": 9,
   "metadata": {},
   "outputs": [
    {
     "name": "stdout",
     "output_type": "stream",
     "text": [
      "467563\n"
     ]
    }
   ],
   "source": [
    "# Get count of rows returned. This is the same as the number of entries output by the info() method above.\n",
    "\n",
    "print(len(irPageData))"
   ]
  },
  {
   "cell_type": "code",
   "execution_count": 10,
   "metadata": {},
   "outputs": [
    {
     "name": "stdout",
     "output_type": "stream",
     "text": [
      "396672\n"
     ]
    }
   ],
   "source": [
    "# Get count of rows with citable content\n",
    "# To do this we are subsetting the data to only include rows where 'citableContent' is set to 'Yes.'\n",
    "\n",
    "citableContentURLs = irPageData[irPageData['citableContent']=='Yes'].copy()\n",
    "print(len(citableContentURLs))"
   ]
  },
  {
   "cell_type": "code",
   "execution_count": 11,
   "metadata": {},
   "outputs": [
    {
     "name": "stdout",
     "output_type": "stream",
     "text": [
      "107513.0\n"
     ]
    }
   ],
   "source": [
    "# CCD = the sum of clicks on citable content URLs\n",
    "# Using our example arguments, the output of this code block equals the number of citable content downloads\n",
    "#       from UNM's Digital Commons repository between June 1 and July 31, 2018.\n",
    "\n",
    "print(citableContentURLs['clicks'].sum())"
   ]
  },
  {
   "cell_type": "markdown",
   "metadata": {},
   "source": [
    "## Sum of Clicks by Device and Country\n",
    "\n",
    "Device type and country of access data must be processed separately from URL specific, page-level data. Since URLs are not provided with country and device type data, it is not possible to filter out citable content, and so click counts as provided below represent activity on all of the pages in an IR and not just content pages (PDFs, CSVs, etc.)\n",
    "\n",
    "The RAMP web application also provides information about access by device and country. The next few code blocks reproduce those aggregations."
   ]
  },
  {
   "cell_type": "code",
   "execution_count": 12,
   "metadata": {},
   "outputs": [
    {
     "name": "stdout",
     "output_type": "stream",
     "text": [
      "<class 'pandas.core.frame.DataFrame'>\n",
      "Int64Index: 1749965 entries, 0 to 839728\n",
      "Data columns (total 8 columns):\n",
      "position        float64\n",
      "clickThrough    float64\n",
      "country         object\n",
      "device          object\n",
      "impressions     float64\n",
      "date            object\n",
      "clicks          float64\n",
      "index           object\n",
      "dtypes: float64(4), object(4)\n",
      "memory usage: 120.2+ MB\n",
      "None\n"
     ]
    }
   ],
   "source": [
    "# Read the CSV data, similar to above.\n",
    "\n",
    "# Create poiners to country/device access data.\n",
    "janAccessData = '2019-01_RAMP_subset_country-device-info.csv'\n",
    "febAccessData = '2019-02_RAMP_subset_country-device-info.csv'\n",
    "\n",
    "# Read January country/device access data\n",
    "rampAccessData = pd.read_csv(janAccessData)\n",
    "\n",
    "# Append February country/device access data\n",
    "rampAccessData = rampAccessData.append(pd.read_csv(febAccessData))\n",
    "\n",
    "# Get info - length, columns, etc.\n",
    "print(rampAccessData.info())"
   ]
  },
  {
   "cell_type": "code",
   "execution_count": 13,
   "metadata": {},
   "outputs": [
    {
     "data": {
      "text/html": [
       "<div>\n",
       "<style>\n",
       "    .dataframe thead tr:only-child th {\n",
       "        text-align: right;\n",
       "    }\n",
       "\n",
       "    .dataframe thead th {\n",
       "        text-align: left;\n",
       "    }\n",
       "\n",
       "    .dataframe tbody tr th {\n",
       "        vertical-align: top;\n",
       "    }\n",
       "</style>\n",
       "<table border=\"1\" class=\"dataframe\">\n",
       "  <thead>\n",
       "    <tr style=\"text-align: right;\">\n",
       "      <th></th>\n",
       "      <th>position</th>\n",
       "      <th>clickThrough</th>\n",
       "      <th>country</th>\n",
       "      <th>device</th>\n",
       "      <th>impressions</th>\n",
       "      <th>date</th>\n",
       "      <th>clicks</th>\n",
       "      <th>index</th>\n",
       "    </tr>\n",
       "  </thead>\n",
       "  <tbody>\n",
       "    <tr>\n",
       "      <th>0</th>\n",
       "      <td>79.500000</td>\n",
       "      <td>0.000000</td>\n",
       "      <td>pry</td>\n",
       "      <td>DESKTOP</td>\n",
       "      <td>2.0</td>\n",
       "      <td>2019-01-25</td>\n",
       "      <td>0.0</td>\n",
       "      <td>swarthmore_inst-schol_access_info</td>\n",
       "    </tr>\n",
       "    <tr>\n",
       "      <th>1</th>\n",
       "      <td>57.376068</td>\n",
       "      <td>0.000000</td>\n",
       "      <td>idn</td>\n",
       "      <td>DESKTOP</td>\n",
       "      <td>117.0</td>\n",
       "      <td>2019-01-28</td>\n",
       "      <td>0.0</td>\n",
       "      <td>swarthmore_inst-schol_access_info</td>\n",
       "    </tr>\n",
       "    <tr>\n",
       "      <th>2</th>\n",
       "      <td>46.794118</td>\n",
       "      <td>0.029412</td>\n",
       "      <td>ukr</td>\n",
       "      <td>DESKTOP</td>\n",
       "      <td>34.0</td>\n",
       "      <td>2019-01-30</td>\n",
       "      <td>1.0</td>\n",
       "      <td>swarthmore_inst-schol_access_info</td>\n",
       "    </tr>\n",
       "    <tr>\n",
       "      <th>3</th>\n",
       "      <td>23.394089</td>\n",
       "      <td>0.034483</td>\n",
       "      <td>gbr</td>\n",
       "      <td>DESKTOP</td>\n",
       "      <td>203.0</td>\n",
       "      <td>2019-01-27</td>\n",
       "      <td>7.0</td>\n",
       "      <td>swarthmore_inst-schol_access_info</td>\n",
       "    </tr>\n",
       "    <tr>\n",
       "      <th>4</th>\n",
       "      <td>9.600000</td>\n",
       "      <td>0.000000</td>\n",
       "      <td>mar</td>\n",
       "      <td>MOBILE</td>\n",
       "      <td>10.0</td>\n",
       "      <td>2019-01-31</td>\n",
       "      <td>0.0</td>\n",
       "      <td>swarthmore_inst-schol_access_info</td>\n",
       "    </tr>\n",
       "  </tbody>\n",
       "</table>\n",
       "</div>"
      ],
      "text/plain": [
       "    position  clickThrough country   device  impressions        date  clicks  \\\n",
       "0  79.500000  0.000000      pry     DESKTOP  2.0          2019-01-25  0.0      \n",
       "1  57.376068  0.000000      idn     DESKTOP  117.0        2019-01-28  0.0      \n",
       "2  46.794118  0.029412      ukr     DESKTOP  34.0         2019-01-30  1.0      \n",
       "3  23.394089  0.034483      gbr     DESKTOP  203.0        2019-01-27  7.0      \n",
       "4  9.600000   0.000000      mar     MOBILE   10.0         2019-01-31  0.0      \n",
       "\n",
       "                               index  \n",
       "0  swarthmore_inst-schol_access_info  \n",
       "1  swarthmore_inst-schol_access_info  \n",
       "2  swarthmore_inst-schol_access_info  \n",
       "3  swarthmore_inst-schol_access_info  \n",
       "4  swarthmore_inst-schol_access_info  "
      ]
     },
     "execution_count": 13,
     "metadata": {},
     "output_type": "execute_result"
    }
   ],
   "source": [
    "# Inspect the first 5 rows.\n",
    "\n",
    "rampAccessData.head()"
   ]
  },
  {
   "cell_type": "code",
   "execution_count": 14,
   "metadata": {},
   "outputs": [
    {
     "name": "stdout",
     "output_type": "stream",
     "text": [
      "<class 'pandas.core.frame.DataFrame'>\n",
      "Int64Index: 69365 entries, 567046 to 556031\n",
      "Data columns (total 8 columns):\n",
      "position        69365 non-null float64\n",
      "clickThrough    69365 non-null float64\n",
      "country         69365 non-null object\n",
      "device          69365 non-null object\n",
      "impressions     69365 non-null float64\n",
      "date            69365 non-null object\n",
      "clicks          69365 non-null float64\n",
      "index           69365 non-null object\n",
      "dtypes: float64(4), object(4)\n",
      "memory usage: 4.8+ MB\n",
      "None\n"
     ]
    }
   ],
   "source": [
    "# Filter for University of New Mexico Digital Repository data.\n",
    "# From the RAMP index info printed above, the necessary index id is 'new_mexico_dc'.\n",
    "# Same as above, please note that the IR info file also includes page click and access info index names for each IR. \n",
    "# As needed this info can be extracted/filtered dynamically. \n",
    "# The process used here was chosen as requiring the least amount of code.\n",
    "\n",
    "index = 'new_mexico_dc'\n",
    "\n",
    "indexAccessData = index + '_access_info'\n",
    "\n",
    "irAccessData = rampAccessData[rampAccessData['index'] == indexAccessData].copy()\n",
    "\n",
    "# Get info - length, columns, etc.\n",
    "print(irAccessData.info())"
   ]
  },
  {
   "cell_type": "code",
   "execution_count": 15,
   "metadata": {},
   "outputs": [
    {
     "data": {
      "text/html": [
       "<div>\n",
       "<style>\n",
       "    .dataframe thead tr:only-child th {\n",
       "        text-align: right;\n",
       "    }\n",
       "\n",
       "    .dataframe thead th {\n",
       "        text-align: left;\n",
       "    }\n",
       "\n",
       "    .dataframe tbody tr th {\n",
       "        vertical-align: top;\n",
       "    }\n",
       "</style>\n",
       "<table border=\"1\" class=\"dataframe\">\n",
       "  <thead>\n",
       "    <tr style=\"text-align: right;\">\n",
       "      <th></th>\n",
       "      <th>position</th>\n",
       "      <th>clickThrough</th>\n",
       "      <th>country</th>\n",
       "      <th>device</th>\n",
       "      <th>impressions</th>\n",
       "      <th>date</th>\n",
       "      <th>clicks</th>\n",
       "      <th>index</th>\n",
       "    </tr>\n",
       "  </thead>\n",
       "  <tbody>\n",
       "    <tr>\n",
       "      <th>567046</th>\n",
       "      <td>153.750289</td>\n",
       "      <td>0.001539</td>\n",
       "      <td>usa</td>\n",
       "      <td>DESKTOP</td>\n",
       "      <td>2599.0</td>\n",
       "      <td>2019-01-01</td>\n",
       "      <td>4.0</td>\n",
       "      <td>new_mexico_dc_access_info</td>\n",
       "    </tr>\n",
       "    <tr>\n",
       "      <th>567047</th>\n",
       "      <td>135.505515</td>\n",
       "      <td>0.001838</td>\n",
       "      <td>ecu</td>\n",
       "      <td>DESKTOP</td>\n",
       "      <td>544.0</td>\n",
       "      <td>2019-01-01</td>\n",
       "      <td>1.0</td>\n",
       "      <td>new_mexico_dc_access_info</td>\n",
       "    </tr>\n",
       "    <tr>\n",
       "      <th>567048</th>\n",
       "      <td>239.000000</td>\n",
       "      <td>0.000000</td>\n",
       "      <td>alb</td>\n",
       "      <td>DESKTOP</td>\n",
       "      <td>2.0</td>\n",
       "      <td>2019-01-01</td>\n",
       "      <td>0.0</td>\n",
       "      <td>new_mexico_dc_access_info</td>\n",
       "    </tr>\n",
       "    <tr>\n",
       "      <th>567049</th>\n",
       "      <td>190.000000</td>\n",
       "      <td>0.000000</td>\n",
       "      <td>arg</td>\n",
       "      <td>MOBILE</td>\n",
       "      <td>1.0</td>\n",
       "      <td>2019-01-01</td>\n",
       "      <td>0.0</td>\n",
       "      <td>new_mexico_dc_access_info</td>\n",
       "    </tr>\n",
       "    <tr>\n",
       "      <th>567050</th>\n",
       "      <td>37.000000</td>\n",
       "      <td>0.000000</td>\n",
       "      <td>aus</td>\n",
       "      <td>TABLET</td>\n",
       "      <td>1.0</td>\n",
       "      <td>2019-01-01</td>\n",
       "      <td>0.0</td>\n",
       "      <td>new_mexico_dc_access_info</td>\n",
       "    </tr>\n",
       "  </tbody>\n",
       "</table>\n",
       "</div>"
      ],
      "text/plain": [
       "          position  clickThrough country   device  impressions        date  \\\n",
       "567046  153.750289  0.001539      usa     DESKTOP  2599.0       2019-01-01   \n",
       "567047  135.505515  0.001838      ecu     DESKTOP  544.0        2019-01-01   \n",
       "567048  239.000000  0.000000      alb     DESKTOP  2.0          2019-01-01   \n",
       "567049  190.000000  0.000000      arg     MOBILE   1.0          2019-01-01   \n",
       "567050  37.000000   0.000000      aus     TABLET   1.0          2019-01-01   \n",
       "\n",
       "        clicks                      index  \n",
       "567046  4.0     new_mexico_dc_access_info  \n",
       "567047  1.0     new_mexico_dc_access_info  \n",
       "567048  0.0     new_mexico_dc_access_info  \n",
       "567049  0.0     new_mexico_dc_access_info  \n",
       "567050  0.0     new_mexico_dc_access_info  "
      ]
     },
     "execution_count": 15,
     "metadata": {},
     "output_type": "execute_result"
    }
   ],
   "source": [
    "# Inspect the first 5 rows.\n",
    "\n",
    "irAccessData.head()"
   ]
  },
  {
   "cell_type": "code",
   "execution_count": 16,
   "metadata": {},
   "outputs": [
    {
     "name": "stdout",
     "output_type": "stream",
     "text": [
      "device\n",
      "DESKTOP    84701.0\n",
      "MOBILE     33704.0\n",
      "TABLET     3107.0 \n",
      "Name: clicks, dtype: float64\n"
     ]
    }
   ],
   "source": [
    "# Sum of clicks by Device\n",
    "\n",
    "clicksByDevice = irAccessData.groupby(['device'])['clicks'].sum()\n",
    "print(clicksByDevice)"
   ]
  },
  {
   "cell_type": "code",
   "execution_count": 17,
   "metadata": {},
   "outputs": [
    {
     "data": {
      "text/plain": [
       "country\n",
       "abw    4.0   \n",
       "afg    18.0  \n",
       "ago    9.0   \n",
       "aia    0.0   \n",
       "ala    0.0   \n",
       "alb    28.0  \n",
       "and    3.0   \n",
       "are    177.0 \n",
       "arg    2346.0\n",
       "arm    28.0  \n",
       "Name: clicks, dtype: float64"
      ]
     },
     "execution_count": 17,
     "metadata": {},
     "output_type": "execute_result"
    }
   ],
   "source": [
    "# Sum of clicks by Country\n",
    "# The output is a long list - to see the whole list, replace 'clicksByCountry.head()' with 'clicksByCountry'.\n",
    "\n",
    "clicksByCountry = irAccessData.groupby(['country'], sort=True)['clicks'].sum()\n",
    "clicksByCountry.head(10)"
   ]
  },
  {
   "cell_type": "code",
   "execution_count": 18,
   "metadata": {},
   "outputs": [
    {
     "data": {
      "text/plain": [
       "country\n",
       "usa    42753.0\n",
       "ecu    13612.0\n",
       "mex    10469.0\n",
       "col    5260.0 \n",
       "ind    4155.0 \n",
       "gbr    3746.0 \n",
       "per    2604.0 \n",
       "esp    2499.0 \n",
       "can    2376.0 \n",
       "arg    2346.0 \n",
       "Name: clicks, dtype: float64"
      ]
     },
     "execution_count": 18,
     "metadata": {},
     "output_type": "execute_result"
    }
   ],
   "source": [
    "# The default sort on the country access data is alphabetical by country code.\n",
    "# Use the following to sort by click counts, showing top 10 countries by CCD.\n",
    "\n",
    "clicksByCountry.sort_values(ascending=False).head(10)"
   ]
  },
  {
   "cell_type": "markdown",
   "metadata": {},
   "source": [
    "In the examples as given, data for all dates within the dataset are aggregated into a single result.\n",
    "\n",
    "Depending on the available date range, it may also be useful to group data by date AND device, or by date AND country. Example code for this is provided below."
   ]
  },
  {
   "cell_type": "code",
   "execution_count": 47,
   "metadata": {},
   "outputs": [
    {
     "name": "stdout",
     "output_type": "stream",
     "text": [
      "date        device \n",
      "2019-01-01  DESKTOP    589.0 \n",
      "            MOBILE     299.0 \n",
      "            TABLET     33.0  \n",
      "2019-01-02  DESKTOP    1015.0\n",
      "            MOBILE     431.0 \n",
      "            TABLET     49.0  \n",
      "2019-01-03  DESKTOP    1187.0\n",
      "            MOBILE     444.0 \n",
      "            TABLET     29.0  \n",
      "2019-01-04  DESKTOP    983.0 \n",
      "Name: clicks, dtype: float64\n"
     ]
    }
   ],
   "source": [
    "# Sum of clicks by Date and Device\n",
    "# The output is long - here it is limited to the first 10 lines.\n",
    "\n",
    "clicksByDateDevice = irAccessData.groupby(['date', 'device'])['clicks'].sum()\n",
    "print(clicksByDateDevice.head(10))"
   ]
  },
  {
   "cell_type": "code",
   "execution_count": 48,
   "metadata": {},
   "outputs": [
    {
     "data": {
      "text/plain": [
       "date        country\n",
       "2019-01-01  arg        15.0\n",
       "            aus        11.0\n",
       "            bel        4.0 \n",
       "            bgd        2.0 \n",
       "            alb        2.0 \n",
       "            afg        1.0 \n",
       "            aze        1.0 \n",
       "            aut        1.0 \n",
       "            bgr        1.0 \n",
       "            ago        0.0 \n",
       "            and        0.0 \n",
       "            are        0.0 \n",
       "            bhr        0.0 \n",
       "            arm        0.0 \n",
       "            atg        0.0 \n",
       "            bdi        0.0 \n",
       "            ben        0.0 \n",
       "            bes        0.0 \n",
       "            bfa        0.0 \n",
       "            abw        0.0 \n",
       "Name: clicks, dtype: float64"
      ]
     },
     "execution_count": 48,
     "metadata": {},
     "output_type": "execute_result"
    }
   ],
   "source": [
    "# Sum of clicks by Date and Country\n",
    "# This output is also long and limited here to the first 20 lines.\n",
    "\n",
    "clicksByDateCountry = irAccessData.groupby(['date', 'country'])['clicks'].sum()\n",
    "clicksByDateCountry.head(20).sort_values(ascending=False)"
   ]
  },
  {
   "cell_type": "markdown",
   "metadata": {},
   "source": [
    "## Output to File\n",
    "\n",
    "There may be some interest in saving some of this information to file. To save as different aggregations and summaries in CSV format, uncomment the desired outputs and run the code below."
   ]
  },
  {
   "cell_type": "code",
   "execution_count": 49,
   "metadata": {
    "collapsed": true
   },
   "outputs": [],
   "source": [
    "# Save to CSV - uncomment specific lines to save those data to CSV format.\n",
    "# Files will be saved to the directory this notebook is in.\n",
    "\n",
    "# Using our example argument from above, the saved page-click data file will be named 'new_mexico_dc_RAMP_page-clicks.csv.'\n",
    "\n",
    "# Uncomment the next line to save all of the raw data returned from ES.  Note that this could be a big file.\n",
    "# irPageData.to_csv(index+'_RAMP_page-clicks.csv', index=False)\n",
    "\n",
    "# Uncomment the next line to save rows with citable content to CSV. The file name follows a similar convention as above.\n",
    "# citableContentURLs.to_csv(index+'_RAMP_citable_content.csv', in# dex=False)\n",
    "\n",
    "# Uncomment the next line to save the clicks by Device info.\n",
    "# clicksByDevice.to_csv(index+'_RAMP_clicks_device.csv')\n",
    "\n",
    "# Uncomment the next line to save the clicks by Country info.\n",
    "# clicksByCountry.to_csv(index+'_RAMP_clicks_country.csv')"
   ]
  },
  {
   "cell_type": "code",
   "execution_count": null,
   "metadata": {
    "collapsed": true
   },
   "outputs": [],
   "source": []
  }
 ],
 "metadata": {
  "kernelspec": {
   "display_name": "Python 3",
   "language": "python",
   "name": "python3"
  },
  "language_info": {
   "codemirror_mode": {
    "name": "ipython",
    "version": 3
   },
   "file_extension": ".py",
   "mimetype": "text/x-python",
   "name": "python",
   "nbconvert_exporter": "python",
   "pygments_lexer": "ipython3",
   "version": "3.6.1"
  }
 },
 "nbformat": 4,
 "nbformat_minor": 2
}
